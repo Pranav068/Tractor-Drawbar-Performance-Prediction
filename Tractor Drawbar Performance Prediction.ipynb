{
 "cells": [
  {
   "cell_type": "markdown",
   "id": "a7b4ac34",
   "metadata": {},
   "source": [
    "# Tractor Drawbar Performance Prediction"
   ]
  },
  {
   "cell_type": "markdown",
   "id": "87888049",
   "metadata": {},
   "source": [
    "## Tractor details"
   ]
  },
  {
   "cell_type": "code",
   "execution_count": 7,
   "id": "80bade2f",
   "metadata": {},
   "outputs": [
    {
     "name": "stdout",
     "output_type": "stream",
     "text": [
      "Enter the total weight of the tractor (in kg)2000\n",
      "Enter Wheal base (in m): 2\n",
      "Enter location of CG ahead of rear axle center (in m): 0.7\n",
      "Enter hitch piont location fron the rear axle center(in m): 0.4\n",
      "Enter tractor CG height above the ground level (in m)0.8\n",
      "Enter tractor hitch height above the ground (in m)0.4\n",
      "Enter the gear no :2\n",
      "Enter theoretical velociy: (Km/hr)5\n",
      "Enter the type of tyrebias ply\n",
      "Enter tyre section width for front wheel (in inch)6\n",
      "Enter rim diameter for front wheels (in inch)16\n",
      "Enter tyre section width for rear wheels (in inch)13.6\n",
      "Enter rim diameter for rear wheels (in inch)28\n"
     ]
    }
   ],
   "source": [
    "Wt=float(input('Enter the total weight of the tractor (in kg)'))\n",
    "WB=float(input('Enter Wheal base (in m): '))\n",
    "xt=float(input('Enter location of CG ahead of rear axle center (in m): '))\n",
    "xl=float(input('Enter hitch piont location fron the rear axle center(in m): '))\n",
    "h1=float(input('Enter tractor CG height above the ground level (in m)'))\n",
    "Hv=float(input('Enter tractor hitch height above the ground (in m)'))\n",
    "gear=eval(input('Enter the gear no :'))\n",
    "Vt=float(input('Enter theoretical velociy: (Km/hr)'))\n",
    "tyre=input('Enter the type of tyre').lower()\n",
    "bf1=float(input('Enter tyre section width for front wheel (in inch)'))\n",
    "df1=float(input('Enter rim diameter for front wheels (in inch)'))\n",
    "br1=float(input('Enter tyre section width for rear wheels (in inch)'))\n",
    "dr1=float(input('Enter rim diameter for rear wheels (in inch)'))"
   ]
  },
  {
   "cell_type": "markdown",
   "id": "965f15f2",
   "metadata": {},
   "source": [
    "## Implement details"
   ]
  },
  {
   "cell_type": "code",
   "execution_count": 8,
   "id": "a70a544c",
   "metadata": {},
   "outputs": [
    {
     "name": "stdout",
     "output_type": "stream",
     "text": [
      "Enter the type of implement:mbplough\n",
      "Enter the weight of implement (in kg)600\n",
      "Enter width of cut (in m): 0.36\n",
      "Enter depth of cut (in cm): 15\n",
      "Enter no. of tynes/bottoms4\n"
     ]
    }
   ],
   "source": [
    "\n",
    "implement=input('Enter the type of implement:').lower()\n",
    "Wm=float(input('Enter the weight of implement (in kg)'))\n",
    "w=float(input('Enter width of cut (in m): '))\n",
    "h=float(input('Enter depth of cut (in cm): '))\n",
    "n=float(input('Enter no. of tynes/bottoms'))"
   ]
  },
  {
   "cell_type": "markdown",
   "id": "d3d4fc99",
   "metadata": {},
   "source": [
    "## Soil parameters"
   ]
  },
  {
   "cell_type": "code",
   "execution_count": 9,
   "id": "5450bfff",
   "metadata": {},
   "outputs": [
    {
     "name": "stdout",
     "output_type": "stream",
     "text": [
      "Enter soil conditition (firm/medium/coarse)medium\n",
      "Enter the ground slope (in degrees)8\n",
      "Enter cone index of soil (in KPa):1250\n"
     ]
    }
   ],
   "source": [
    "\n",
    "soil=input('Enter soil conditition (firm/medium/coarse)').lower()\n",
    "bita=float(input('Enter the ground slope (in degrees)'))\n",
    "CI=eval(input('Enter cone index of soil (in KPa):'))"
   ]
  },
  {
   "cell_type": "code",
   "execution_count": 10,
   "id": "4b5490e8",
   "metadata": {},
   "outputs": [],
   "source": [
    "bf=0.0254*bf1\n",
    "df=1.06*0.0254*df1+2*0.75*bf\n",
    "br=0.0254*br1\n",
    "dr=1.06*0.0254*dr1+2*0.75*br"
   ]
  },
  {
   "cell_type": "markdown",
   "id": "765d062c",
   "metadata": {},
   "source": [
    "## Calculations"
   ]
  },
  {
   "cell_type": "code",
   "execution_count": 21,
   "id": "76c9c022",
   "metadata": {},
   "outputs": [
    {
     "name": "stdout",
     "output_type": "stream",
     "text": [
      "********** Tractor Drawbar Performance **********\n",
      "The draft is: 11419.758 N\n",
      "The slip is: 10.0 %\n",
      "The actual velocity is: 4.5 Km/hr\n",
      "The NTR is:0.624\n",
      "The GTR is:0.722\n",
      "The TE is:77.75 %\n",
      "**************************************************\n"
     ]
    }
   ],
   "source": [
    "\n",
    "from math import cos, radians, sin\n",
    "s=0.1\n",
    "while s<=0.45:\n",
    "    Va=Vt*(1-s)\n",
    "    if implement=='mbplough':\n",
    "        A,B,C=652,0,5.1\n",
    "        F1,F2,F3=1,0.7,0.45\n",
    "        W=w*n\n",
    "    elif implement=='cultivator':\n",
    "         A,B,C=46,2.8,0\n",
    "         F1,F2,F3=1,0.85,0.65\n",
    "         W=n*0.2\n",
    "    elif implement=='discharrow':\n",
    "         A,B,C=364,18.8,0\n",
    "         F1,F2,F3=1,0.88,0.78\n",
    "         W=0.95*n*0.3-0.6*0.4\n",
    "    if soil=='firm':\n",
    "         F=F1\n",
    "    elif soil=='medium':\n",
    "         F=F2\n",
    "    elif soil=='coarse':\n",
    "         F=F3\n",
    "    D=F*(A+B*Va+C*(Va)**2)*W*h\n",
    "    P=D+Wm*9.81*sin(radians(bita))\n",
    "    V=P*sin(radians(bita))\n",
    "    row_r=0.04\n",
    "    Fr=D+Wt*9.81*row_r+(Wt/9.81)*0+Wt*9.81*sin(radians(bita))\n",
    "    ef=row_r*df/2\n",
    "    er=row_r*dr/2\n",
    "    Rr=(Wt*9.81*(WB*xt+ef)+Wm*9.81*h1*(0/9.81+sin(radians(bita)))+V*(WB+xl+ef)-D*Hv)/(WB+ef-er)\n",
    "    Rf=Wt*9.81*cos(radians(bita))+V-Rr\n",
    "    e=2.718\n",
    "    if tyre=='bias ply':\n",
    "        A1,A2,A3,A4,A5,A6,A7=0.88,0.1,7.5,0.04,5,3,1\n",
    "    elif tyre=='radial ply':\n",
    "        A1,A2,A3,A4,A5,A6,A7=0.88,0.1,9.5,0.032,5,3,0.9\n",
    "    Bn=CI*1000*br*dr/(Rr/2)*((1+A5*0.2)/(1+A6*(br/dr)))\n",
    "    row_m=A7/Bn+A4+0.5*s/(Bn)**0.5\n",
    "    if abs(row_m-row_r)<=0.02:\n",
    "        ug=A1*(1-e**(-A2*Bn))*(1-e**(-A3*s))+A4\n",
    "        Fb=ug*Rr*2\n",
    "    else:\n",
    "        row_r=row_r+0.01\n",
    "    if abs(Fb-Fr)<=2000:\n",
    "        print('*'*10 +' Tractor Drawbar Performance ' + '*'*10)\n",
    "        print(f'The draft is: {D} N')\n",
    "        print(f'The slip is: {s*100} %')\n",
    "        print(f'The actual velocity is: {Va} Km/hr')\n",
    "        NTR=P/(Wt*9.81)\n",
    "        print(f'The NTR is:%.3f'%NTR)\n",
    "        GTR=Fb/(Wt*9.81)\n",
    "        print(f'The GTR is:%.3f'%GTR)\n",
    "        TE=(P/Fb)*(1-s)*100\n",
    "        print(f'The TE is:%.2f'%TE+' %')\n",
    "        print('*'*50)\n",
    "        break\n",
    "    else:\n",
    "            s=s+0.1\n"
   ]
  },
  {
   "cell_type": "code",
   "execution_count": null,
   "id": "3e6b11de",
   "metadata": {},
   "outputs": [],
   "source": []
  }
 ],
 "metadata": {
  "kernelspec": {
   "display_name": "Python 3 (ipykernel)",
   "language": "python",
   "name": "python3"
  },
  "language_info": {
   "codemirror_mode": {
    "name": "ipython",
    "version": 3
   },
   "file_extension": ".py",
   "mimetype": "text/x-python",
   "name": "python",
   "nbconvert_exporter": "python",
   "pygments_lexer": "ipython3",
   "version": "3.9.12"
  }
 },
 "nbformat": 4,
 "nbformat_minor": 5
}
